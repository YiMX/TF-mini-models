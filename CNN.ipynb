{
 "cells": [
  {
   "cell_type": "markdown",
   "metadata": {},
   "source": [
    "#### Convolutional forward network"
   ]
  },
  {
   "cell_type": "code",
   "execution_count": 1,
   "metadata": {},
   "outputs": [],
   "source": [
    "import tensorflow as tf\n",
    "\n",
    "# For an RGB image, we have 3 channels. For a word embedding matrix or a grey scale image, num of channels is usually one.\n",
    "num_channels = 1\n",
    "\n",
    "# We have 3 filters\n",
    "filter_sizes = [[3, 3], [4, 4], [5, 5]]\n",
    "\n",
    "# Number of feature maps\n",
    "num_fea_maps = 5\n",
    "\n",
    "# Softmax hidden units\n",
    "hidden_units = 50\n",
    "\n",
    "def cnn_forward(inputs):\n",
    "    pooled_outputs = []\n",
    "    for i, filter_shape in enumerate(filter_sizes):\n",
    "        with tf.variable_scope(\"Convolution-%s\" % i) as scope:\n",
    "            # Convolution layer\n",
    "            # Filter shape = [height, width, num_channels, num_fea_maps]\n",
    "            filter_shape.append(num_channels)\n",
    "            filter_shape.append(num_fea_maps)\n",
    "        \n",
    "            W = tf.get_variable(name='W', shape=filter_shape)\n",
    "            b = tf.get_variable(name='b', shape=[num_fea_maps])\n",
    "            conv = tf.nn.conv2d(inputs,\n",
    "                                W,\n",
    "                                strides=[1, 1, 1, 1],\n",
    "                                padding='SAME',\n",
    "                                name='Conv')\n",
    "            # Activation\n",
    "            activated = tf.nn.relu(tf.nn.bias_add(conv, b))\n",
    "\n",
    "            # Pooling\n",
    "            pooled = tf.nn.max_pool(activated, ksize=[1, 2, 2, 1], strides=[1, 2, 2, 1], padding=\"SAME\")\n",
    "            \n",
    "            pooled_outputs.append(pooled)\n",
    "    \n",
    "    # We have 3 type of filter, pooled_outputs has shape 3 * (batch_size, 14, 14, num_fea_maps)\n",
    "    # Here we concat the 4-th dim of pooled_outputs (batch_size, 14, 14, 3 * num_fea_maps)\n",
    "    total_pooled = tf.concat(pooled_outputs, 3)    \n",
    "    pool_shape = total_pooled.get_shape().as_list()\n",
    "    nodes = pool_shape[1] * pool_shape[2] * pool_shape[3]\n",
    "    \n",
    "    # Convert (batch_size, num_features)\n",
    "    reshaped = tf.reshape(total_pooled, [-1, nodes]) \n",
    "    \n",
    "    # Softmax layers\n",
    "    before_outputs = tf.contrib.layers.fully_connected(reshaped, hidden_units, activation_fn=tf.nn.relu)\n",
    "    outputs = tf.contrib.layers.fully_connected(before_outputs, 10, activation_fn=None)\n",
    "    return outputs"
   ]
  },
  {
   "cell_type": "markdown",
   "metadata": {},
   "source": [
    "#### Read MNIST dataset"
   ]
  },
  {
   "cell_type": "code",
   "execution_count": 2,
   "metadata": {},
   "outputs": [
    {
     "name": "stdout",
     "output_type": "stream",
     "text": [
      "Extracting ../VAE/Datasets/MNIST_data/train-images-idx3-ubyte.gz\n",
      "Extracting ../VAE/Datasets/MNIST_data/train-labels-idx1-ubyte.gz\n",
      "Extracting ../VAE/Datasets/MNIST_data/t10k-images-idx3-ubyte.gz\n",
      "Extracting ../VAE/Datasets/MNIST_data/t10k-labels-idx1-ubyte.gz\n"
     ]
    }
   ],
   "source": [
    "from tensorflow.examples.tutorials.mnist import input_data\n",
    "mnist = input_data.read_data_sets('../VAE/Datasets/MNIST_data', one_hot=True)"
   ]
  },
  {
   "cell_type": "markdown",
   "metadata": {},
   "source": [
    "#### Training"
   ]
  },
  {
   "cell_type": "code",
   "execution_count": 3,
   "metadata": {},
   "outputs": [
    {
     "name": "stdout",
     "output_type": "stream",
     "text": [
      "Valid loss 2.59421, valid accuracy 11.96%\n",
      "Valid loss 0.13061, valid accuracy 96.14%\n",
      "Valid loss 0.07981, valid accuracy 97.50%\n",
      "Valid loss 0.06634, valid accuracy 98.00%\n",
      "Valid loss 0.06003, valid accuracy 98.10%\n",
      "Valid loss 0.05467, valid accuracy 98.40%\n",
      "Valid loss 0.05546, valid accuracy 98.18%\n",
      "Valid loss 0.05451, valid accuracy 98.34%\n",
      "Valid loss 0.05189, valid accuracy 98.58%\n",
      "Valid loss 0.05434, valid accuracy 98.36%\n"
     ]
    }
   ],
   "source": [
    "batch_size = 64\n",
    "\n",
    "X = tf.placeholder(name='inputs', shape=[None, 28, 28, 1], dtype=tf.float32)\n",
    "y = tf.placeholder(name='labels', shape=[None, 10], dtype=tf.float32)\n",
    "\n",
    "logits = cnn_forward(X)\n",
    "loss = tf.reduce_mean(tf.nn.softmax_cross_entropy_with_logits(labels=y, logits=logits))\n",
    "\n",
    "predictions = tf.argmax(logits, 1)\n",
    "correct_predictions = tf.equal(predictions, tf.argmax(y, 1))\n",
    "accuracy = tf.reduce_mean(tf.cast(correct_predictions, tf.float32))\n",
    "\n",
    "train_op = tf.train.AdamOptimizer(0.001).minimize(loss)\n",
    "\n",
    "with tf.Session() as sess:\n",
    "    tf.global_variables_initializer().run()\n",
    "    for i in range(10000):\n",
    "        xs, ys = mnist.train.next_batch(batch_size)\n",
    "        # Convert shape(64, 784) to (64, 28, 28, 1)\n",
    "        train_feed_X = xs.reshape(batch_size, 28, 28, 1)\n",
    "        loss_val, _ = sess.run([loss, train_op], feed_dict={X: train_feed_X, y: ys})\n",
    "        \n",
    "        if i % 1000 == 0:\n",
    "            # Convert shape(64, 784) to (64, 28, 28, 1). Validation has 5000 examples\n",
    "            valid_feed_X = mnist.validation.images.reshape(5000, 28, 28, 1)\n",
    "            valid_loss, valid_acc = sess.run([loss, accuracy], feed_dict={X: valid_feed_X, y: mnist.validation.labels})\n",
    "            print(\"Valid loss %.5f, valid accuracy %.2f%%\" % (valid_loss, valid_acc*100))"
   ]
  },
  {
   "cell_type": "code",
   "execution_count": null,
   "metadata": {
    "collapsed": true
   },
   "outputs": [],
   "source": []
  }
 ],
 "metadata": {
  "kernelspec": {
   "display_name": "Python 2",
   "language": "python",
   "name": "python2"
  },
  "language_info": {
   "codemirror_mode": {
    "name": "ipython",
    "version": 2
   },
   "file_extension": ".py",
   "mimetype": "text/x-python",
   "name": "python",
   "nbconvert_exporter": "python",
   "pygments_lexer": "ipython2",
   "version": "2.7.6"
  }
 },
 "nbformat": 4,
 "nbformat_minor": 2
}
