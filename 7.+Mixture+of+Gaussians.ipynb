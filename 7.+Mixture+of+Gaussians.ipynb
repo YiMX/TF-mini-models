{
 "cells": [
  {
   "cell_type": "markdown",
   "metadata": {},
   "source": [
    "This example uses TensorFlow to sample from a distribution of a mixture model of 10 2D Gaussians\n",
    "\n",
    "A Gaussian distribution $N(\\mu, \\Sigma)$ can be sampled by $X = \\mu + EZ$, where $Z\\sim N(0, I)$ and $\\Sigma=EE^T$. This is called **Cholesky decomposition** if $E$ is a triangular matrix. X can also be sampled by $X = \\mu + U^T\\Lambda^{\\frac{1}{2}}Z$, where \n",
    "$Z\\sim N(0, I)$, and $\\Sigma=U^T\\Lambda{U}$, which is the **eigen decomposition**. Note that decomposition is not unique.\n",
    "\n",
    "Hence, each $N(\\mu, \\Sigma)$ can be regarded as an rotation of $N(\\mu, I)$. Given a vector $[cos(\\theta), sin(\\theta)]$ and its anticlockwise rotation, assume rotation is $\\varphi$ degree, we can define a linear transformation \n",
    "$$\n",
    "Ax = y\n",
    "$$\n",
    "where $x=[cos(\\theta), sin(\\theta)]$ and $y=[cos(\\theta+\\varphi), sin(\\theta+\\varphi)]$\n",
    "\n",
    "We get \n",
    "$$\n",
    "A = yx^T(xx^T)^{-1}\n",
    "$$\n",
    "Thus $$\\Sigma=AA^T$$"
   ]
  },
  {
   "cell_type": "code",
   "execution_count": 51,
   "metadata": {
    "collapsed": true
   },
   "outputs": [],
   "source": [
    "import tensorflow as tf\n",
    "import tensorflow.contrib.distributions as ds\n",
    "import matplotlib.pyplot as plt\n",
    "import math\n",
    "%matplotlib inline"
   ]
  },
  {
   "cell_type": "code",
   "execution_count": 70,
   "metadata": {},
   "outputs": [],
   "source": [
    "# Initialize a single 3-variate Gaussian.\n",
    "mu = [0, 0.]\n",
    "cov = [[1., 0.50],\n",
    "       [0.50, 0.3]]\n",
    "scale = tf.cholesky(cov)\n",
    "mvn = ds.MultivariateNormalTriL(\n",
    "    loc=mu,\n",
    "    scale_tril=scale)\n",
    "\n",
    "samples = mvn.sample(10000)\n",
    "with tf.Session() as sess:\n",
    "    samples_val = sess.run(samples)"
   ]
  },
  {
   "cell_type": "code",
   "execution_count": 71,
   "metadata": {
    "scrolled": false
   },
   "outputs": [
    {
     "data": {
      "image/png": "[encoded data removed]",
      "text/plain": [
       "<matplotlib.figure.Figure at 0x7f2f3c6f7310>"
      ]
     },
     "metadata": {},
     "output_type": "display_data"
    }
   ],
   "source": [
    "plt.figure(figsize=(5, 5))\n",
    "plt.scatter(samples_val[:, 0], samples_val[:, 1], s=3.)\n",
    "plt.xlim(-5, 5)\n",
    "plt.ylim(-5, 5)\n",
    "plt.show()"
   ]
  },
  {
   "cell_type": "code",
   "execution_count": 73,
   "metadata": {
    "scrolled": false
   },
   "outputs": [
    {
     "name": "stdout",
     "output_type": "stream",
     "text": [
      "[[ 0. -1.]\n",
      " [ 1.  0.]]\n"
     ]
    },
    {
     "data": {
      "image/png": "[encoded data removed]",
      "text/plain": [
       "<matplotlib.figure.Figure at 0x7f2f3c28a690>"
      ]
     },
     "metadata": {},
     "output_type": "display_data"
    }
   ],
   "source": [
    "theta = tf.constant(0.0, dtype=tf.float32)\n",
    "phi = tf.constant(2 * math.pi / 4, dtype=tf.float32)\n",
    "x = [[tf.cos(theta)],[tf.sin(theta)]]\n",
    "y = [[tf.cos(theta + phi)],[tf.sin(theta + phi)]]\n",
    "#E = tf.matmul(tf.matmul(y, tf.transpose(x)), tf.matrix_inverse(tf.matmul(x, tf.transpose(x))))\n",
    "#A = tf.convert_to_tensor([[tf.cos(theta + phi), -1],[tf.sin(theta + phi), 1]])\n",
    "A = tf.convert_to_tensor([[0., -1],[1, 0]])\n",
    "B = scale\n",
    "E = tf.matmul(A, B)\n",
    "cov = tf.matmul(E, tf.transpose(E))\n",
    "scale_rotate = tf.cholesky(cov)\n",
    "\n",
    "mvn = ds.MultivariateNormalTriL(\n",
    "    loc=mu,\n",
    "    scale_tril=scale_rotate)\n",
    "\n",
    "samples = mvn.sample(10000)\n",
    "with tf.Session() as sess:\n",
    "    samples_val = sess.run(samples)\n",
    "    print sess.run(A)\n",
    "    \n",
    "plt.figure(figsize=(5, 5))\n",
    "plt.scatter(samples_val[:, 0], samples_val[:, 1], s=3.)\n",
    "plt.xlim(-5, 5)\n",
    "plt.ylim(-5, 5)\n",
    "plt.show()"
   ]
  },
  {
   "cell_type": "code",
   "execution_count": 9,
   "metadata": {
    "collapsed": true
   },
   "outputs": [],
   "source": [
    "import numpy as np\n",
    "from numpy import linalg as LA"
   ]
  },
  {
   "cell_type": "code",
   "execution_count": 14,
   "metadata": {
    "collapsed": true
   },
   "outputs": [],
   "source": [
    "w, v = LA.eig(np.array([[1, 0.95], [0.95, 1]]))"
   ]
  },
  {
   "cell_type": "code",
   "execution_count": 15,
   "metadata": {},
   "outputs": [
    {
     "data": {
      "text/plain": [
       "(array([ 1.95,  0.05]), array([[ 0.70710678, -0.70710678],\n",
       "        [ 0.70710678,  0.70710678]]))"
      ]
     },
     "execution_count": 15,
     "metadata": {},
     "output_type": "execute_result"
    }
   ],
   "source": [
    "w, v"
   ]
  },
  {
   "cell_type": "code",
   "execution_count": 71,
   "metadata": {},
   "outputs": [],
   "source": [
    "a = np.asarray([[ 1.        ,  0.        ],\n",
    " [ 0.94999999,  0.31224993]])\n",
    "b = np.transpose(a)"
   ]
  },
  {
   "cell_type": "code",
   "execution_count": 72,
   "metadata": {},
   "outputs": [
    {
     "data": {
      "text/plain": [
       "array([[ 1.        ,  0.94999999],\n",
       "       [ 0.94999999,  1.        ]])"
      ]
     },
     "execution_count": 72,
     "metadata": {},
     "output_type": "execute_result"
    }
   ],
   "source": [
    "np.dot(a, b)"
   ]
  },
  {
   "cell_type": "code",
   "execution_count": 73,
   "metadata": {},
   "outputs": [
    {
     "data": {
      "text/plain": [
       "array([[ 1.  ,  0.95],\n",
       "       [ 0.95,  1.  ]])"
      ]
     },
     "execution_count": 73,
     "metadata": {},
     "output_type": "execute_result"
    }
   ],
   "source": [
    "np.dot(np.dot(np.transpose(v), np.diag(w)), v)\n",
    "np.dot(np.dot(v, np.diag(w)) ,np.transpose(v))"
   ]
  },
  {
   "cell_type": "code",
   "execution_count": 76,
   "metadata": {},
   "outputs": [
    {
     "name": "stdout",
     "output_type": "stream",
     "text": [
      "[ 1.          0.94999999] [ 0.98742088  0.98742088]\n"
     ]
    }
   ],
   "source": [
    "x = np.asarray([1, 0])\n",
    "\n",
    "x_dash = np.dot(a, x)\n",
    "x_dash2 = np.dot(np.dot(v, np.diag(np.sqrt(w))), x)\n",
    "\n",
    "print x_dash, x_dash2"
   ]
  },
  {
   "cell_type": "code",
   "execution_count": null,
   "metadata": {
    "collapsed": true
   },
   "outputs": [],
   "source": []
  }
 ],
 "metadata": {
  "kernelspec": {
   "display_name": "Edward",
   "language": "python",
   "name": "edward"
  },
  "language_info": {
   "codemirror_mode": {
    "name": "ipython",
    "version": 2
   },
   "file_extension": ".py",
   "mimetype": "text/x-python",
   "name": "python",
   "nbconvert_exporter": "python",
   "pygments_lexer": "ipython2",
   "version": "2.7.6"
  }
 },
 "nbformat": 4,
 "nbformat_minor": 2
}
