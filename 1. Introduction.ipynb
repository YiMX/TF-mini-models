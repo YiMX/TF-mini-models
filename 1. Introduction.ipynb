{
 "cells": [
  {
   "cell_type": "markdown",
   "metadata": {},
   "source": [
    "#### TensorFlow is a directed graph for data flow\n",
    "- Operations and Kernels\n",
    " - Each node in a TF graph represents an instantiation of operations\n",
    " - A Kernel is an implementation of running operation on a device, e.g. CPU or GPU.\n",
    "- Sessions\n",
    " - Interaction with graphs, e.g., to create a computation graph and execute it.\n",
    "- Variables\n",
    " - Tensors survive after executions to store parameters. \n",
    " \n",
    "More details see [TensorFlow:Large-Scale Machine Learning on Heterogeneous Distributed Systems](http://download.tensorflow.org/paper/whitepaper2015.pdf)"
   ]
  },
  {
   "cell_type": "markdown",
   "metadata": {},
   "source": [
    "#### Using TF:\n",
    "- 1. Build a graph\n",
    "- 2. Execute it with `tf.Session()`"
   ]
  },
  {
   "cell_type": "code",
   "execution_count": 1,
   "metadata": {},
   "outputs": [
    {
     "name": "stdout",
     "output_type": "stream",
     "text": [
      "3.0\n",
      "3.0\n"
     ]
    }
   ],
   "source": [
    "import tensorflow as tf\n",
    "\n",
    "a = tf.constant(1., name='const1')\n",
    "b = tf.constant(2., name='const2')\n",
    "c = tf.add(a, b)\n",
    "\n",
    "with tf.Session() as sess:\n",
    "    # Get the value of c\n",
    "    print(sess.run(c))\n",
    "    # eval() is only supported in an Interactive Session tf.InteractiveSession()\n",
    "    print(c.eval())"
   ]
  },
  {
   "cell_type": "markdown",
   "metadata": {},
   "source": [
    "#### Communication between Python and TF."
   ]
  },
  {
   "cell_type": "code",
   "execution_count": 1,
   "metadata": {},
   "outputs": [
    {
     "name": "stdout",
     "output_type": "stream",
     "text": [
      "4.0\n",
      "5.0\n"
     ]
    }
   ],
   "source": [
    "import tensorflow as tf\n",
    "\n",
    "a = tf.Variable(1., name='const1')\n",
    "b = tf.Variable(2., name='const2')\n",
    "c = tf.add(a, b)\n",
    "\n",
    "with tf.Session() as sess:\n",
    "    # tf.assign() and feed_dict integrated within sess.run() both feed Python variables to TF variables\n",
    "    # sess.run() returns Python variables.\n",
    "    sess.run(tf.assign(b, 3))    \n",
    "    print(sess.run(c, feed_dict={a:1}))\n",
    "    \n",
    "    print(sess.run(c, feed_dict={a:2, b:3}))"
   ]
  },
  {
   "cell_type": "markdown",
   "metadata": {},
   "source": [
    "#### Variables and Scopes\n"
   ]
  },
  {
   "cell_type": "code",
   "execution_count": 2,
   "metadata": {},
   "outputs": [
    {
     "name": "stdout",
     "output_type": "stream",
     "text": [
      "foo0/v0:0\n",
      "v1:0\n",
      "foo1/v2:0\n"
     ]
    }
   ],
   "source": [
    "with tf.name_scope('foo0'):\n",
    "    v0 = tf.Variable(0., name='v0')\n",
    "    v1 = tf.get_variable('v1', shape=[1, 2])\n",
    "\n",
    "with tf.variable_scope('foo1'):\n",
    "    v2 = tf.get_variable('v2', shape=[1, 2])\n",
    "    \n",
    "print(v0.name)\n",
    "print(v1.name)\n",
    "print(v2.name)"
   ]
  },
  {
   "cell_type": "markdown",
   "metadata": {},
   "source": [
    "#### Scope Reuse\n",
    "- `tf.get_variable()` can only set up a variable once, redefine need to reuse the corresponding scope. \n",
    "- `tf.get_variable()` is helpful in parallel training and adversarial training.\n",
    "- `tf.Variable()` cannot reuse variables "
   ]
  },
  {
   "cell_type": "code",
   "execution_count": 1,
   "metadata": {},
   "outputs": [
    {
     "name": "stdout",
     "output_type": "stream",
     "text": [
      "foo/aaa:0\n",
      "foo/aaa:0\n",
      "foo/aaa:0\n"
     ]
    }
   ],
   "source": [
    "import tensorflow as tf\n",
    "\n",
    "with tf.variable_scope('foo'):\n",
    "    aaa = tf.get_variable('aaa', shape=[1,2])\n",
    "    \n",
    "# Define a new python variable ccc\n",
    "with tf.variable_scope('foo', reuse=True):\n",
    "    bbb = tf.get_variable('aaa', shape=[1,2])\n",
    "\n",
    "# An alternative method\n",
    "with tf.variable_scope('foo') as scope:\n",
    "    scope.reuse_variables() # tf.get_variable_scope() also returns the current scope.\n",
    "    ccc = tf.get_variable('aaa', shape=[1,2])\n",
    "    \n",
    "print(aaa.name)\n",
    "print(bbb.name)\n",
    "print(ccc.name)"
   ]
  },
  {
   "cell_type": "code",
   "execution_count": null,
   "metadata": {
    "collapsed": true
   },
   "outputs": [],
   "source": []
  }
 ],
 "metadata": {
  "kernelspec": {
   "display_name": "Python 2",
   "language": "python",
   "name": "python2"
  },
  "language_info": {
   "codemirror_mode": {
    "name": "ipython",
    "version": 2
   },
   "file_extension": ".py",
   "mimetype": "text/x-python",
   "name": "python",
   "nbconvert_exporter": "python",
   "pygments_lexer": "ipython2",
   "version": "2.7.6"
  }
 },
 "nbformat": 4,
 "nbformat_minor": 2
}
